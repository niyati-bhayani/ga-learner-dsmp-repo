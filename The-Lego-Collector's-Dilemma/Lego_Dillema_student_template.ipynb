{
 "cells": [
  {
   "cell_type": "markdown",
   "metadata": {},
   "source": [
    "### Load and split the dataset\n",
    "- Load the train data and using all your knowledge of pandas try to explore the different statistical properties of the dataset.\n",
    "- Separate the features and target and then split the train data into train and validation set."
   ]
  },
  {
   "cell_type": "code",
   "execution_count": 1,
   "metadata": {},
   "outputs": [],
   "source": [
    "import pandas as pd\n",
    "import numpy as np\n",
    "import matplotlib.pyplot as plt\n",
    "from sklearn.linear_model import LinearRegression\n",
    "from sklearn.metrics import mean_squared_error, r2_score\n",
    "from sklearn.model_selection import train_test_split\n",
    "import seaborn as sns\n",
    "import warnings\n",
    "warnings.filterwarnings(\"ignore\")"
   ]
  },
  {
   "cell_type": "code",
   "execution_count": 2,
   "metadata": {},
   "outputs": [
    {
     "data": {
      "text/html": [
       "<div>\n",
       "<style scoped>\n",
       "    .dataframe tbody tr th:only-of-type {\n",
       "        vertical-align: middle;\n",
       "    }\n",
       "\n",
       "    .dataframe tbody tr th {\n",
       "        vertical-align: top;\n",
       "    }\n",
       "\n",
       "    .dataframe thead th {\n",
       "        text-align: right;\n",
       "    }\n",
       "</style>\n",
       "<table border=\"1\" class=\"dataframe\">\n",
       "  <thead>\n",
       "    <tr style=\"text-align: right;\">\n",
       "      <th></th>\n",
       "      <th>ages</th>\n",
       "      <th>list_price</th>\n",
       "      <th>num_reviews</th>\n",
       "      <th>piece_count</th>\n",
       "      <th>play_star_rating</th>\n",
       "      <th>review_difficulty</th>\n",
       "      <th>star_rating</th>\n",
       "      <th>theme_name</th>\n",
       "      <th>val_star_rating</th>\n",
       "      <th>country</th>\n",
       "      <th>Id</th>\n",
       "    </tr>\n",
       "  </thead>\n",
       "  <tbody>\n",
       "    <tr>\n",
       "      <td>0</td>\n",
       "      <td>8</td>\n",
       "      <td>155.8800</td>\n",
       "      <td>202</td>\n",
       "      <td>2469</td>\n",
       "      <td>4.7</td>\n",
       "      <td>1</td>\n",
       "      <td>4.9</td>\n",
       "      <td>9</td>\n",
       "      <td>4.7</td>\n",
       "      <td>7</td>\n",
       "      <td>0</td>\n",
       "    </tr>\n",
       "    <tr>\n",
       "      <td>1</td>\n",
       "      <td>26</td>\n",
       "      <td>19.9900</td>\n",
       "      <td>9</td>\n",
       "      <td>252</td>\n",
       "      <td>4.8</td>\n",
       "      <td>0</td>\n",
       "      <td>4.6</td>\n",
       "      <td>39</td>\n",
       "      <td>4.6</td>\n",
       "      <td>20</td>\n",
       "      <td>1</td>\n",
       "    </tr>\n",
       "    <tr>\n",
       "      <td>2</td>\n",
       "      <td>26</td>\n",
       "      <td>91.6980</td>\n",
       "      <td>56</td>\n",
       "      <td>659</td>\n",
       "      <td>4.6</td>\n",
       "      <td>0</td>\n",
       "      <td>4.6</td>\n",
       "      <td>34</td>\n",
       "      <td>3.9</td>\n",
       "      <td>4</td>\n",
       "      <td>2</td>\n",
       "    </tr>\n",
       "    <tr>\n",
       "      <td>3</td>\n",
       "      <td>11</td>\n",
       "      <td>24.3878</td>\n",
       "      <td>1</td>\n",
       "      <td>19</td>\n",
       "      <td>3.0</td>\n",
       "      <td>5</td>\n",
       "      <td>4.0</td>\n",
       "      <td>13</td>\n",
       "      <td>4.0</td>\n",
       "      <td>10</td>\n",
       "      <td>3</td>\n",
       "    </tr>\n",
       "    <tr>\n",
       "      <td>4</td>\n",
       "      <td>7</td>\n",
       "      <td>609.9878</td>\n",
       "      <td>84</td>\n",
       "      <td>4016</td>\n",
       "      <td>4.5</td>\n",
       "      <td>1</td>\n",
       "      <td>3.9</td>\n",
       "      <td>34</td>\n",
       "      <td>3.5</td>\n",
       "      <td>10</td>\n",
       "      <td>4</td>\n",
       "    </tr>\n",
       "  </tbody>\n",
       "</table>\n",
       "</div>"
      ],
      "text/plain": [
       "   ages  list_price  num_reviews  piece_count  play_star_rating  \\\n",
       "0     8    155.8800          202         2469               4.7   \n",
       "1    26     19.9900            9          252               4.8   \n",
       "2    26     91.6980           56          659               4.6   \n",
       "3    11     24.3878            1           19               3.0   \n",
       "4     7    609.9878           84         4016               4.5   \n",
       "\n",
       "   review_difficulty  star_rating  theme_name  val_star_rating  country  Id  \n",
       "0                  1          4.9           9              4.7        7   0  \n",
       "1                  0          4.6          39              4.6       20   1  \n",
       "2                  0          4.6          34              3.9        4   2  \n",
       "3                  5          4.0          13              4.0       10   3  \n",
       "4                  1          3.9          34              3.5       10   4  "
      ]
     },
     "execution_count": 2,
     "metadata": {},
     "output_type": "execute_result"
    }
   ],
   "source": [
    "# Code starts here\n",
    "\n",
    "# read the dataset\n",
    "train_data = pd.read_csv('train.csv')\n",
    "train_data.head()"
   ]
  },
  {
   "cell_type": "code",
   "execution_count": 3,
   "metadata": {},
   "outputs": [
    {
     "name": "stdout",
     "output_type": "stream",
     "text": [
      "<class 'pandas.core.frame.DataFrame'>\n",
      "RangeIndex: 8582 entries, 0 to 8581\n",
      "Data columns (total 11 columns):\n",
      "ages                 8582 non-null int64\n",
      "list_price           8582 non-null float64\n",
      "num_reviews          8582 non-null int64\n",
      "piece_count          8582 non-null int64\n",
      "play_star_rating     8582 non-null float64\n",
      "review_difficulty    8582 non-null int64\n",
      "star_rating          8582 non-null float64\n",
      "theme_name           8582 non-null int64\n",
      "val_star_rating      8582 non-null float64\n",
      "country              8582 non-null int64\n",
      "Id                   8582 non-null int64\n",
      "dtypes: float64(4), int64(7)\n",
      "memory usage: 737.6 KB\n"
     ]
    }
   ],
   "source": [
    "train_data.info()"
   ]
  },
  {
   "cell_type": "code",
   "execution_count": 4,
   "metadata": {},
   "outputs": [
    {
     "data": {
      "text/html": [
       "<div>\n",
       "<style scoped>\n",
       "    .dataframe tbody tr th:only-of-type {\n",
       "        vertical-align: middle;\n",
       "    }\n",
       "\n",
       "    .dataframe tbody tr th {\n",
       "        vertical-align: top;\n",
       "    }\n",
       "\n",
       "    .dataframe thead th {\n",
       "        text-align: right;\n",
       "    }\n",
       "</style>\n",
       "<table border=\"1\" class=\"dataframe\">\n",
       "  <thead>\n",
       "    <tr style=\"text-align: right;\">\n",
       "      <th></th>\n",
       "      <th>ages</th>\n",
       "      <th>list_price</th>\n",
       "      <th>num_reviews</th>\n",
       "      <th>piece_count</th>\n",
       "      <th>play_star_rating</th>\n",
       "      <th>review_difficulty</th>\n",
       "      <th>star_rating</th>\n",
       "      <th>theme_name</th>\n",
       "      <th>val_star_rating</th>\n",
       "      <th>country</th>\n",
       "      <th>Id</th>\n",
       "    </tr>\n",
       "  </thead>\n",
       "  <tbody>\n",
       "    <tr>\n",
       "      <td>count</td>\n",
       "      <td>8582.000000</td>\n",
       "      <td>8582.000000</td>\n",
       "      <td>8582.000000</td>\n",
       "      <td>8582.000000</td>\n",
       "      <td>8582.000000</td>\n",
       "      <td>8582.000000</td>\n",
       "      <td>8582.000000</td>\n",
       "      <td>8582.000000</td>\n",
       "      <td>8582.000000</td>\n",
       "      <td>8582.000000</td>\n",
       "      <td>8582.000000</td>\n",
       "    </tr>\n",
       "    <tr>\n",
       "      <td>mean</td>\n",
       "      <td>16.649149</td>\n",
       "      <td>64.493463</td>\n",
       "      <td>14.680727</td>\n",
       "      <td>486.677464</td>\n",
       "      <td>3.697809</td>\n",
       "      <td>1.994640</td>\n",
       "      <td>3.904649</td>\n",
       "      <td>20.482172</td>\n",
       "      <td>3.597448</td>\n",
       "      <td>10.045211</td>\n",
       "      <td>4290.500000</td>\n",
       "    </tr>\n",
       "    <tr>\n",
       "      <td>std</td>\n",
       "      <td>8.186261</td>\n",
       "      <td>89.871631</td>\n",
       "      <td>34.867561</td>\n",
       "      <td>802.789725</td>\n",
       "      <td>1.653742</td>\n",
       "      <td>1.792387</td>\n",
       "      <td>1.617678</td>\n",
       "      <td>11.948618</td>\n",
       "      <td>1.624698</td>\n",
       "      <td>6.191468</td>\n",
       "      <td>2477.554338</td>\n",
       "    </tr>\n",
       "    <tr>\n",
       "      <td>min</td>\n",
       "      <td>0.000000</td>\n",
       "      <td>2.272400</td>\n",
       "      <td>0.000000</td>\n",
       "      <td>1.000000</td>\n",
       "      <td>0.000000</td>\n",
       "      <td>0.000000</td>\n",
       "      <td>0.000000</td>\n",
       "      <td>0.000000</td>\n",
       "      <td>0.000000</td>\n",
       "      <td>0.000000</td>\n",
       "      <td>0.000000</td>\n",
       "    </tr>\n",
       "    <tr>\n",
       "      <td>25%</td>\n",
       "      <td>11.000000</td>\n",
       "      <td>19.990000</td>\n",
       "      <td>1.000000</td>\n",
       "      <td>95.000000</td>\n",
       "      <td>3.600000</td>\n",
       "      <td>0.000000</td>\n",
       "      <td>4.000000</td>\n",
       "      <td>9.000000</td>\n",
       "      <td>3.500000</td>\n",
       "      <td>4.000000</td>\n",
       "      <td>2145.250000</td>\n",
       "    </tr>\n",
       "    <tr>\n",
       "      <td>50%</td>\n",
       "      <td>19.000000</td>\n",
       "      <td>36.587800</td>\n",
       "      <td>4.000000</td>\n",
       "      <td>214.000000</td>\n",
       "      <td>4.400000</td>\n",
       "      <td>2.000000</td>\n",
       "      <td>4.600000</td>\n",
       "      <td>21.000000</td>\n",
       "      <td>4.200000</td>\n",
       "      <td>10.000000</td>\n",
       "      <td>4290.500000</td>\n",
       "    </tr>\n",
       "    <tr>\n",
       "      <td>75%</td>\n",
       "      <td>23.000000</td>\n",
       "      <td>71.298000</td>\n",
       "      <td>12.000000</td>\n",
       "      <td>544.000000</td>\n",
       "      <td>4.700000</td>\n",
       "      <td>4.000000</td>\n",
       "      <td>4.900000</td>\n",
       "      <td>34.000000</td>\n",
       "      <td>4.700000</td>\n",
       "      <td>15.000000</td>\n",
       "      <td>6435.750000</td>\n",
       "    </tr>\n",
       "    <tr>\n",
       "      <td>max</td>\n",
       "      <td>30.000000</td>\n",
       "      <td>1104.870000</td>\n",
       "      <td>367.000000</td>\n",
       "      <td>7541.000000</td>\n",
       "      <td>5.000000</td>\n",
       "      <td>5.000000</td>\n",
       "      <td>5.000000</td>\n",
       "      <td>40.000000</td>\n",
       "      <td>5.000000</td>\n",
       "      <td>20.000000</td>\n",
       "      <td>8581.000000</td>\n",
       "    </tr>\n",
       "  </tbody>\n",
       "</table>\n",
       "</div>"
      ],
      "text/plain": [
       "              ages   list_price  num_reviews  piece_count  play_star_rating  \\\n",
       "count  8582.000000  8582.000000  8582.000000  8582.000000       8582.000000   \n",
       "mean     16.649149    64.493463    14.680727   486.677464          3.697809   \n",
       "std       8.186261    89.871631    34.867561   802.789725          1.653742   \n",
       "min       0.000000     2.272400     0.000000     1.000000          0.000000   \n",
       "25%      11.000000    19.990000     1.000000    95.000000          3.600000   \n",
       "50%      19.000000    36.587800     4.000000   214.000000          4.400000   \n",
       "75%      23.000000    71.298000    12.000000   544.000000          4.700000   \n",
       "max      30.000000  1104.870000   367.000000  7541.000000          5.000000   \n",
       "\n",
       "       review_difficulty  star_rating   theme_name  val_star_rating  \\\n",
       "count        8582.000000  8582.000000  8582.000000      8582.000000   \n",
       "mean            1.994640     3.904649    20.482172         3.597448   \n",
       "std             1.792387     1.617678    11.948618         1.624698   \n",
       "min             0.000000     0.000000     0.000000         0.000000   \n",
       "25%             0.000000     4.000000     9.000000         3.500000   \n",
       "50%             2.000000     4.600000    21.000000         4.200000   \n",
       "75%             4.000000     4.900000    34.000000         4.700000   \n",
       "max             5.000000     5.000000    40.000000         5.000000   \n",
       "\n",
       "           country           Id  \n",
       "count  8582.000000  8582.000000  \n",
       "mean     10.045211  4290.500000  \n",
       "std       6.191468  2477.554338  \n",
       "min       0.000000     0.000000  \n",
       "25%       4.000000  2145.250000  \n",
       "50%      10.000000  4290.500000  \n",
       "75%      15.000000  6435.750000  \n",
       "max      20.000000  8581.000000  "
      ]
     },
     "execution_count": 4,
     "metadata": {},
     "output_type": "execute_result"
    }
   ],
   "source": [
    "train_data.describe()"
   ]
  },
  {
   "cell_type": "code",
   "execution_count": 5,
   "metadata": {},
   "outputs": [],
   "source": [
    "# Store independent variable_train\n",
    "X = train_data.drop('list_price',axis=1)"
   ]
  },
  {
   "cell_type": "code",
   "execution_count": 6,
   "metadata": {},
   "outputs": [],
   "source": [
    "# Store dependent variable\n",
    "y = train_data['list_price']"
   ]
  },
  {
   "cell_type": "code",
   "execution_count": 7,
   "metadata": {},
   "outputs": [],
   "source": [
    "# Spliting the dataset\n",
    "X_train, X_val, y_train, y_val = train_test_split(X, y, test_size=0.3, random_state=6)"
   ]
  },
  {
   "cell_type": "markdown",
   "metadata": {},
   "source": [
    "### Data Visualization\n",
    "\n",
    "- All the features including target variable are continuous. \n",
    "- Check out the best plots for plotting between continuous features and try making some inferences from these plots. "
   ]
  },
  {
   "cell_type": "code",
   "execution_count": 8,
   "metadata": {},
   "outputs": [
    {
     "data": {
      "image/png": "[encoded data removed]",
      "text/plain": [
       "<Figure size 432x288 with 1 Axes>"
      ]
     },
     "metadata": {
      "needs_background": "light"
     },
     "output_type": "display_data"
    }
   ],
   "source": [
    "# Check if the target variable is normally distributed\n",
    "plt.hist(y_train, color='blue');"
   ]
  },
  {
   "cell_type": "code",
   "execution_count": 9,
   "metadata": {},
   "outputs": [
    {
     "data": {
      "image/png": "[encoded data removed]",
      "text/plain": [
       "<Figure size 432x288 with 1 Axes>"
      ]
     },
     "metadata": {
      "needs_background": "light"
     },
     "output_type": "display_data"
    }
   ],
   "source": [
    "# Since the target variable is right skewed, we will tranform it using logarithmic transformation to normalize it\n",
    "plt.hist(np.log(y_train), color='green');"
   ]
  },
  {
   "cell_type": "code",
   "execution_count": 10,
   "metadata": {},
   "outputs": [
    {
     "data": {
      "image/png": "[encoded data removed]",
      "text/plain": [
       "<Figure size 432x288 with 9 Axes>"
      ]
     },
     "metadata": {
      "needs_background": "light"
     },
     "output_type": "display_data"
    }
   ],
   "source": [
    "# Check if there is a linear relationship between dependent and independent variable\n",
    "\n",
    "cols = X_train.columns\n",
    "fig, axes = plt.subplots(nrows = 3 , ncols = 3)\n",
    "\n",
    "for i in range(3):\n",
    "    for j in range(3):\n",
    "        col = cols[i*3 + j]\n",
    "        axes[i,j].scatter(X_train[col], y_train)\n",
    "        axes[i,j].set_title(col)\n",
    "\n",
    "plt.tight_layout()\n",
    "plt.show()"
   ]
  },
  {
   "cell_type": "code",
   "execution_count": 11,
   "metadata": {},
   "outputs": [
    {
     "name": "stdout",
     "output_type": "stream",
     "text": [
      "                   ages  num_reviews  piece_count  play_star_rating  \\\n",
      "ages               1.00        -0.16        -0.09              0.23   \n",
      "num_reviews       -0.16         1.00         0.55              0.15   \n",
      "piece_count       -0.09         0.55         1.00              0.17   \n",
      "play_star_rating   0.23         0.15         0.17              1.00   \n",
      "review_difficulty -0.25        -0.20        -0.31             -0.67   \n",
      "star_rating        0.10         0.16         0.18              0.90   \n",
      "theme_name         0.48         0.02         0.17              0.15   \n",
      "val_star_rating    0.12         0.17         0.19              0.92   \n",
      "country           -0.02         0.01         0.01             -0.00   \n",
      "Id                 0.01        -0.01        -0.01             -0.01   \n",
      "\n",
      "                   review_difficulty  star_rating  theme_name  \\\n",
      "ages                           -0.25         0.10        0.48   \n",
      "num_reviews                    -0.20         0.16        0.02   \n",
      "piece_count                    -0.31         0.18        0.17   \n",
      "play_star_rating               -0.67         0.90        0.15   \n",
      "review_difficulty               1.00        -0.64       -0.16   \n",
      "star_rating                    -0.64         1.00        0.06   \n",
      "theme_name                     -0.16         0.06        1.00   \n",
      "val_star_rating                -0.66         0.91        0.10   \n",
      "country                         0.00        -0.01       -0.02   \n",
      "Id                              0.01        -0.01       -0.01   \n",
      "\n",
      "                   val_star_rating  country    Id  \n",
      "ages                          0.12    -0.02  0.01  \n",
      "num_reviews                   0.17     0.01 -0.01  \n",
      "piece_count                   0.19     0.01 -0.01  \n",
      "play_star_rating              0.92    -0.00 -0.01  \n",
      "review_difficulty            -0.66     0.00  0.01  \n",
      "star_rating                   0.91    -0.01 -0.01  \n",
      "theme_name                    0.10    -0.02 -0.01  \n",
      "val_star_rating               1.00     0.00 -0.02  \n",
      "country                       0.00     1.00 -0.02  \n",
      "Id                           -0.02    -0.02  1.00  \n"
     ]
    }
   ],
   "source": [
    "# Check for no or less multi-collinearity between dependent variables\n",
    "corr = round(X_train.corr(), 2)\n",
    "print(corr)"
   ]
  },
  {
   "cell_type": "markdown",
   "metadata": {},
   "source": [
    "### Feature Selection\n",
    "- Try selecting suitable threshold and accordingly drop the columns."
   ]
  },
  {
   "cell_type": "code",
   "execution_count": 12,
   "metadata": {},
   "outputs": [],
   "source": [
    "# selecting threshold  for correlation as 0.7\n",
    "# drop columns from X_train\n",
    "X_train.drop(['play_star_rating','val_star_rating', 'Id'],axis = 1 ,inplace=True)"
   ]
  },
  {
   "cell_type": "code",
   "execution_count": 13,
   "metadata": {},
   "outputs": [],
   "source": [
    "X_val.drop(['play_star_rating','val_star_rating', 'Id'],axis = 1 ,inplace=True)"
   ]
  },
  {
   "cell_type": "markdown",
   "metadata": {},
   "source": [
    "### Model building"
   ]
  },
  {
   "cell_type": "code",
   "execution_count": 14,
   "metadata": {},
   "outputs": [],
   "source": [
    "# instantiate linear regression model\n",
    "regressor = LinearRegression()\n",
    "\n",
    "# fit model on training data\n",
    "regressor.fit(X_train, y_train)\n",
    "\n",
    "# predict the result\n",
    "y_pred = regressor.predict(X_val)"
   ]
  },
  {
   "cell_type": "markdown",
   "metadata": {},
   "source": [
    "### Residual check!\n",
    "\n",
    "- Check the distribution of the residual."
   ]
  },
  {
   "cell_type": "code",
   "execution_count": 15,
   "metadata": {},
   "outputs": [
    {
     "name": "stdout",
     "output_type": "stream",
     "text": [
      "Root Mean Squared Error: 48.84276343718057\n",
      "R Squared: 0.7328\n"
     ]
    },
    {
     "data": {
      "image/png": "[encoded data removed]",
      "text/plain": [
       "<Figure size 432x288 with 1 Axes>"
      ]
     },
     "metadata": {
      "needs_background": "light"
     },
     "output_type": "display_data"
    }
   ],
   "source": [
    "# RMSE calculation\n",
    "rmse = np.sqrt(mean_squared_error(y_val, y_pred))\n",
    "print(\"Root Mean Squared Error:\", rmse)\n",
    "\n",
    "# R-squared calculation\n",
    "rsquared = r2_score(y_val, y_pred)\n",
    "print(\"R Squared:\", round(rsquared,4))\n",
    "\n",
    "# Residual Check\n",
    "residual = y_val-y_pred\n",
    "plt.hist(residual)\n",
    "plt.xlabel('residual error')\n",
    "plt.title('Histogram of residual error')\n",
    "plt.show()"
   ]
  },
  {
   "cell_type": "markdown",
   "metadata": {},
   "source": [
    "### Prediction on the test data and creating the sample submission file.\n",
    "\n",
    "- Load the test data and store the `Id` column in a separate variable.\n",
    "- Perform the same operations on the test data that you have performed on the train data.\n",
    "- Create the submission file as a `csv` file consisting of the `Id` column from the test data and your prediction as the second column."
   ]
  },
  {
   "cell_type": "code",
   "execution_count": 16,
   "metadata": {},
   "outputs": [
    {
     "data": {
      "text/html": [
       "<div>\n",
       "<style scoped>\n",
       "    .dataframe tbody tr th:only-of-type {\n",
       "        vertical-align: middle;\n",
       "    }\n",
       "\n",
       "    .dataframe tbody tr th {\n",
       "        vertical-align: top;\n",
       "    }\n",
       "\n",
       "    .dataframe thead th {\n",
       "        text-align: right;\n",
       "    }\n",
       "</style>\n",
       "<table border=\"1\" class=\"dataframe\">\n",
       "  <thead>\n",
       "    <tr style=\"text-align: right;\">\n",
       "      <th></th>\n",
       "      <th>ages</th>\n",
       "      <th>num_reviews</th>\n",
       "      <th>piece_count</th>\n",
       "      <th>play_star_rating</th>\n",
       "      <th>review_difficulty</th>\n",
       "      <th>star_rating</th>\n",
       "      <th>theme_name</th>\n",
       "      <th>val_star_rating</th>\n",
       "      <th>country</th>\n",
       "      <th>Id</th>\n",
       "    </tr>\n",
       "  </thead>\n",
       "  <tbody>\n",
       "    <tr>\n",
       "      <td>0</td>\n",
       "      <td>26</td>\n",
       "      <td>8</td>\n",
       "      <td>941</td>\n",
       "      <td>4.6</td>\n",
       "      <td>0</td>\n",
       "      <td>4.6</td>\n",
       "      <td>33</td>\n",
       "      <td>4.3</td>\n",
       "      <td>16</td>\n",
       "      <td>9907</td>\n",
       "    </tr>\n",
       "    <tr>\n",
       "      <td>1</td>\n",
       "      <td>11</td>\n",
       "      <td>0</td>\n",
       "      <td>19</td>\n",
       "      <td>0.0</td>\n",
       "      <td>5</td>\n",
       "      <td>0.0</td>\n",
       "      <td>13</td>\n",
       "      <td>0.0</td>\n",
       "      <td>7</td>\n",
       "      <td>5243</td>\n",
       "    </tr>\n",
       "    <tr>\n",
       "      <td>2</td>\n",
       "      <td>29</td>\n",
       "      <td>34</td>\n",
       "      <td>1376</td>\n",
       "      <td>4.0</td>\n",
       "      <td>1</td>\n",
       "      <td>4.3</td>\n",
       "      <td>34</td>\n",
       "      <td>3.8</td>\n",
       "      <td>12</td>\n",
       "      <td>8276</td>\n",
       "    </tr>\n",
       "    <tr>\n",
       "      <td>3</td>\n",
       "      <td>26</td>\n",
       "      <td>0</td>\n",
       "      <td>369</td>\n",
       "      <td>0.0</td>\n",
       "      <td>5</td>\n",
       "      <td>0.0</td>\n",
       "      <td>28</td>\n",
       "      <td>0.0</td>\n",
       "      <td>9</td>\n",
       "      <td>6501</td>\n",
       "    </tr>\n",
       "    <tr>\n",
       "      <td>4</td>\n",
       "      <td>11</td>\n",
       "      <td>1</td>\n",
       "      <td>19</td>\n",
       "      <td>3.0</td>\n",
       "      <td>5</td>\n",
       "      <td>4.0</td>\n",
       "      <td>13</td>\n",
       "      <td>4.0</td>\n",
       "      <td>0</td>\n",
       "      <td>1619</td>\n",
       "    </tr>\n",
       "  </tbody>\n",
       "</table>\n",
       "</div>"
      ],
      "text/plain": [
       "   ages  num_reviews  piece_count  play_star_rating  review_difficulty  \\\n",
       "0    26            8          941               4.6                  0   \n",
       "1    11            0           19               0.0                  5   \n",
       "2    29           34         1376               4.0                  1   \n",
       "3    26            0          369               0.0                  5   \n",
       "4    11            1           19               3.0                  5   \n",
       "\n",
       "   star_rating  theme_name  val_star_rating  country    Id  \n",
       "0          4.6          33              4.3       16  9907  \n",
       "1          0.0          13              0.0        7  5243  \n",
       "2          4.3          34              3.8       12  8276  \n",
       "3          0.0          28              0.0        9  6501  \n",
       "4          4.0          13              4.0        0  1619  "
      ]
     },
     "execution_count": 16,
     "metadata": {},
     "output_type": "execute_result"
    }
   ],
   "source": [
    "# read the dataset\n",
    "test_data = pd.read_csv('test.csv')\n",
    "test_data.head()"
   ]
  },
  {
   "cell_type": "code",
   "execution_count": 17,
   "metadata": {},
   "outputs": [],
   "source": [
    "# Store independent variable_train\n",
    "X_test = test_data\n",
    "\n",
    "# Store dependent variable\n",
    "#y_test = test_data['list_price']"
   ]
  },
  {
   "cell_type": "code",
   "execution_count": 18,
   "metadata": {},
   "outputs": [],
   "source": [
    "ID = X_test['Id']"
   ]
  },
  {
   "cell_type": "code",
   "execution_count": 19,
   "metadata": {},
   "outputs": [],
   "source": [
    "# drop columns from X_train\n",
    "X_test.drop(['play_star_rating','val_star_rating', 'Id'],axis = 1 ,inplace=True)"
   ]
  },
  {
   "cell_type": "code",
   "execution_count": 20,
   "metadata": {},
   "outputs": [
    {
     "data": {
      "text/plain": [
       "Index(['ages', 'num_reviews', 'piece_count', 'review_difficulty',\n",
       "       'star_rating', 'theme_name', 'country'],\n",
       "      dtype='object')"
      ]
     },
     "execution_count": 20,
     "metadata": {},
     "output_type": "execute_result"
    }
   ],
   "source": [
    "X_test.columns"
   ]
  },
  {
   "cell_type": "code",
   "execution_count": 21,
   "metadata": {},
   "outputs": [],
   "source": [
    "# predict the result\n",
    "y_pred_test = regressor.predict(X_test)"
   ]
  },
  {
   "cell_type": "code",
   "execution_count": 32,
   "metadata": {},
   "outputs": [],
   "source": [
    "y_pred_test = pd.Series(y_pred_test, name='list_price')"
   ]
  },
  {
   "cell_type": "code",
   "execution_count": 37,
   "metadata": {},
   "outputs": [],
   "source": [
    "submission = pd.DataFrame({'Id':ID, 'list_price':y_pred_test})"
   ]
  },
  {
   "cell_type": "code",
   "execution_count": 40,
   "metadata": {},
   "outputs": [],
   "source": [
    "submission.set_index('Id',inplace=True)"
   ]
  },
  {
   "cell_type": "code",
   "execution_count": 41,
   "metadata": {},
   "outputs": [],
   "source": [
    "submission.to_csv('submit.csv')"
   ]
  },
  {
   "cell_type": "code",
   "execution_count": null,
   "metadata": {},
   "outputs": [],
   "source": []
  }
 ],
 "metadata": {
  "kernelspec": {
   "display_name": "Python 3",
   "language": "python",
   "name": "python3"
  },
  "language_info": {
   "codemirror_mode": {
    "name": "ipython",
    "version": 3
   },
   "file_extension": ".py",
   "mimetype": "text/x-python",
   "name": "python",
   "nbconvert_exporter": "python",
   "pygments_lexer": "ipython3",
   "version": "3.7.4"
  }
 },
 "nbformat": 4,
 "nbformat_minor": 2
}
